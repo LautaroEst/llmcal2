{
 "cells": [
  {
   "cell_type": "code",
   "execution_count": 1,
   "metadata": {},
   "outputs": [],
   "source": [
    "import numpy as np\n",
    "import datasets\n",
    "datasets.disable_caching()"
   ]
  },
  {
   "cell_type": "code",
   "execution_count": 7,
   "metadata": {},
   "outputs": [],
   "source": [
    "def create_lists_sst2(seed):\n",
    "    rs = np.random.RandomState(seed)\n",
    "    data = datasets.load_dataset(\"nyu-mll/glue\", \"sst2\")\n",
    "\n",
    "    df_train = data[\"train\"].to_pandas().set_index(\"idx\").rename(columns={\"sentence\": \"text\"})\n",
    "    df_train = df_train[df_train[\"text\"].str.len() > 0]\n",
    "    train_list = rs.permutation(df_train.index.to_numpy())\n",
    "\n",
    "    df_test = data[\"validation\"].to_pandas().set_index(\"idx\").rename(columns={\"sentence\": \"text\"})\n",
    "    df_test = df_test[df_test[\"text\"].str.len() > 0]\n",
    "    test_list = rs.permutation(df_test.index.to_numpy())\n",
    "\n",
    "    return train_list, test_list\n",
    "\n",
    "def create_lists_agnews(seed):\n",
    "    rs = np.random.RandomState(seed)\n",
    "    data = datasets.load_dataset(\"ag_news\")\n",
    "\n",
    "    df_train = data[\"train\"].add_column(\"idx\", np.arange(len(data[\"train\"]))).to_pandas().set_index(\"idx\")\n",
    "    df_train = df_train[df_train[\"text\"].str.len() > 0]\n",
    "    train_list = rs.permutation(df_train.index.to_numpy())\n",
    "\n",
    "    df_test = data[\"test\"].add_column(\"idx\", np.arange(len(data[\"test\"]))).to_pandas().set_index(\"idx\")\n",
    "    df_test = df_test[df_test[\"text\"].str.len() > 0]\n",
    "    test_list = rs.permutation(df_test.index.to_numpy())\n",
    "\n",
    "    return train_list, test_list\n",
    "\n",
    "def create_lists_dbpedia(seed):\n",
    "    rs = np.random.RandomState(seed)\n",
    "    data = datasets.load_dataset(\"fancyzhx/dbpedia_14\")\n",
    "    data[\"train\"] = data[\"train\"].add_column(\"idx\", np.arange(len(data[\"train\"])))\n",
    "    data[\"test\"] = data[\"test\"].add_column(\"idx\", np.arange(len(data[\"test\"])))\n",
    "\n",
    "    df_train = data[\"train\"].to_pandas().set_index(\"idx\").loc[:,[\"content\",\"label\"]].rename(columns={\"content\": \"text\"})\n",
    "    df_train = df_train[df_train[\"text\"].str.len() > 0]\n",
    "    train_list = rs.permutation(df_train.index.to_numpy())\n",
    "\n",
    "    df_test = data[\"test\"].to_pandas().set_index(\"idx\").loc[:,[\"content\",\"label\"]].rename(columns={\"content\": \"text\"})\n",
    "    df_test = df_test[df_test[\"text\"].str.len() > 0]\n",
    "    test_list = rs.permutation(df_test.index.to_numpy())\n",
    "\n",
    "    return train_list, test_list\n",
    "\n",
    "\n",
    "def create_lists_20newsgroups(seed):\n",
    "    rs = np.random.RandomState(seed)\n",
    "    data = datasets.load_dataset(\"SetFit/20_newsgroups\")\n",
    "    classes_names = data[\"train\"].to_pandas().loc[:,[\"label\",\"label_text\"]].drop_duplicates().set_index(\"label\").squeeze().sort_index().tolist()\n",
    "    data[\"train\"] = data[\"train\"].add_column(\"idx\", np.arange(len(data[\"train\"])))\n",
    "    data[\"test\"] = data[\"test\"].add_column(\"idx\", np.arange(len(data[\"test\"])))\n",
    "    for split in data:\n",
    "        features = data[split].features\n",
    "        features[\"label\"] = datasets.ClassLabel(\n",
    "            num_classes=20, \n",
    "            names=classes_names)\n",
    "        data[split] = data[split].cast(features)\n",
    "\n",
    "    df_train = data[\"train\"].to_pandas().set_index(\"idx\").drop(columns=[\"label_text\"])\n",
    "    df_train = df_train[df_train[\"text\"].str.len() > 0]\n",
    "    train_list = rs.permutation(df_train.index.to_numpy())\n",
    "\n",
    "    df_test = data[\"test\"].to_pandas().set_index(\"idx\").drop(columns=[\"label_text\"])\n",
    "    df_test = df_test[df_test[\"text\"].str.len() > 0]\n",
    "    test_list = rs.permutation(df_test.index.to_numpy())\n",
    "\n",
    "    return train_list, test_list\n",
    "\n",
    "def create_lists_banking77(seed):\n",
    "    rs = np.random.RandomState(seed)\n",
    "    data = datasets.load_dataset(\"PolyAI/banking77\",trust_remote_code=True)\n",
    "    data[\"train\"] = data[\"train\"].add_column(\"idx\", np.arange(len(data[\"train\"])))\n",
    "    data[\"test\"] = data[\"test\"].add_column(\"idx\", np.arange(len(data[\"train\"]), len(data[\"train\"])+len(data[\"test\"])))\n",
    "    all_data = datasets.concatenate_datasets([data[\"train\"], data[\"test\"]])\n",
    "\n",
    "    df_all = all_data.to_pandas().set_index(\"idx\")\n",
    "    df_all = df_all[df_all[\"text\"].str.len() > 0]\n",
    "    train_list = rs.permutation(df_all.iloc[len(data[\"test\"]):].index.to_numpy())\n",
    "    test_list = rs.permutation(df_all.iloc[:len(data[\"test\"])].index.to_numpy())\n",
    "\n",
    "    return train_list, test_list"
   ]
  },
  {
   "cell_type": "code",
   "execution_count": 9,
   "metadata": {},
   "outputs": [
    {
     "name": "stderr",
     "output_type": "stream",
     "text": [
      "Repo card metadata block was not found. Setting CardData to empty.\n"
     ]
    },
    {
     "data": {
      "application/vnd.jupyter.widget-view+json": {
       "model_id": "ee2525b25f69475681874f0c9933942c",
       "version_major": 2,
       "version_minor": 0
      },
      "text/plain": [
       "Casting the dataset:   0%|          | 0/11314 [00:00<?, ? examples/s]"
      ]
     },
     "metadata": {},
     "output_type": "display_data"
    },
    {
     "data": {
      "application/vnd.jupyter.widget-view+json": {
       "model_id": "c30e367a52fc44a89d48a0d4c1334cba",
       "version_major": 2,
       "version_minor": 0
      },
      "text/plain": [
       "Casting the dataset:   0%|          | 0/7532 [00:00<?, ? examples/s]"
      ]
     },
     "metadata": {},
     "output_type": "display_data"
    }
   ],
   "source": [
    "train_list, test_list = create_lists_sst2(16237)\n",
    "np.savetxt(\"../lists/sst2/train.txt\", train_list, fmt=\"%s\")\n",
    "np.savetxt(\"../lists/sst2/test.txt\", test_list, fmt=\"%s\")\n",
    "\n",
    "train_list, test_list = create_lists_agnews(782348)\n",
    "np.savetxt(\"../lists/agnews/train.txt\", train_list, fmt=\"%s\")\n",
    "np.savetxt(\"../lists/agnews/test.txt\", test_list, fmt=\"%s\")\n",
    "\n",
    "train_list, test_list = create_lists_dbpedia(3399)\n",
    "np.savetxt(\"../lists/dbpedia/train.txt\", train_list, fmt=\"%s\")\n",
    "np.savetxt(\"../lists/dbpedia/test.txt\", test_list, fmt=\"%s\")\n",
    "\n",
    "train_list, test_list = create_lists_20newsgroups(8495)\n",
    "np.savetxt(\"../lists/20newsgroups/train.txt\", train_list, fmt=\"%s\")\n",
    "np.savetxt(\"../lists/20newsgroups/test.txt\", test_list, fmt=\"%s\")\n",
    "\n",
    "train_list, test_list = create_lists_banking77(81234)\n",
    "np.savetxt(\"../lists/banking77/train.txt\", train_list, fmt=\"%s\")\n",
    "np.savetxt(\"../lists/banking77/test.txt\", test_list, fmt=\"%s\")"
   ]
  }
 ],
 "metadata": {
  "kernelspec": {
   "display_name": "llmcal",
   "language": "python",
   "name": "python3"
  },
  "language_info": {
   "codemirror_mode": {
    "name": "ipython",
    "version": 3
   },
   "file_extension": ".py",
   "mimetype": "text/x-python",
   "name": "python",
   "nbconvert_exporter": "python",
   "pygments_lexer": "ipython3",
   "version": "3.10.13"
  }
 },
 "nbformat": 4,
 "nbformat_minor": 2
}
